{
  "nbformat": 4,
  "nbformat_minor": 0,
  "metadata": {
    "colab": {
      "name": "PySpark_Colab_Starter",
      "version": "0.3.2",
      "provenance": [],
      "collapsed_sections": [],
      "toc_visible": true,
      "include_colab_link": true
    },
    "kernelspec": {
      "name": "python3",
      "display_name": "Python 3"
    },
    "accelerator": "TPU"
  },
  "cells": [
    {
      "cell_type": "markdown",
      "metadata": {
        "id": "view-in-github",
        "colab_type": "text"
      },
      "source": [
        "<a href=\"https://colab.research.google.com/github/rchgit/pyspark-ML-in-Colab/blob/master/PySpark_Colab_Starter.ipynb\" target=\"_parent\"><img src=\"https://colab.research.google.com/assets/colab-badge.svg\" alt=\"Open In Colab\"/></a>"
      ]
    },
    {
      "metadata": {
        "id": "XD7NZ7gTnkzJ",
        "colab_type": "text"
      },
      "cell_type": "markdown",
      "source": [
        "# PySpark Colab Starter Notebook\n",
        "This notebook template sets up PySpark for easy use within Colaboratory. This also mounts your Google Drive to expand the Colab VM storage.\n",
        "\n",
        "Credits to asifahmed90 and A Apte for the code in this notebook.\n",
        "\n",
        "Sources: \n",
        "\n",
        "- https://github.com/asifahmed90/pyspark-ML-in-Colab\n",
        "- https://towardsdatascience.com/3-ways-to-load-csv-files-into-colab-7c14fcbdcb92"
      ]
    },
    {
      "metadata": {
        "id": "HKX_xa6JqsLp",
        "colab_type": "text"
      },
      "cell_type": "markdown",
      "source": [
        "Initialize Spark 2.4.1 and import to Python"
      ]
    },
    {
      "metadata": {
        "id": "lh5NCoc8fsSO",
        "colab_type": "code",
        "colab": {}
      },
      "cell_type": "code",
      "source": [
        "#!pwd\n",
        "!apt-get install openjdk-8-jdk-headless -qq > /dev/null\n",
        "!wget -q https://www-us.apache.org/dist/spark/spark-2.4.1/spark-2.4.1-bin-hadoop2.7.tgz\n",
        "!tar xf spark-2.4.1-bin-hadoop2.7.tgz\n",
        "!pip install -q findspark\n",
        "import os\n",
        "os.environ[\"JAVA_HOME\"] = \"/usr/lib/jvm/java-8-openjdk-amd64\"\n",
        "os.environ[\"SPARK_HOME\"] = \"/content/spark-2.4.1-bin-hadoop2.7\"\n",
        "import findspark\n",
        "findspark.init()\n",
        "from pyspark.sql import SparkSession"
      ],
      "execution_count": 0,
      "outputs": []
    },
    {
      "metadata": {
        "id": "qbJ1s1Yknb7w",
        "colab_type": "text"
      },
      "cell_type": "markdown",
      "source": [
        "Mount Google Drive (may require authorization code)"
      ]
    },
    {
      "metadata": {
        "id": "AeG2jvvjmRKH",
        "colab_type": "code",
        "colab": {}
      },
      "cell_type": "code",
      "source": [
        "from google.colab import drive\n",
        "drive.mount('/content/drive')"
      ],
      "execution_count": 0,
      "outputs": []
    },
    {
      "metadata": {
        "id": "KwrqMk3HiMiE",
        "colab_type": "text"
      },
      "cell_type": "markdown",
      "source": [
        "Configure spark session here:"
      ]
    },
    {
      "metadata": {
        "id": "9_Uz1NL4gHFx",
        "colab_type": "code",
        "colab": {}
      },
      "cell_type": "code",
      "source": [
        "spark = SparkSession.builder.master(\"local[*]\").getOrCreate()"
      ],
      "execution_count": 0,
      "outputs": []
    },
    {
      "metadata": {
        "id": "Yiqgvug4q-FK",
        "colab_type": "text"
      },
      "cell_type": "markdown",
      "source": [
        "# Your code below this cell :)"
      ]
    }
  ]
}